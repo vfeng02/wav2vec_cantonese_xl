{
  "nbformat": 4,
  "nbformat_minor": 0,
  "metadata": {
    "colab": {
      "private_outputs": true,
      "provenance": [],
      "machine_shape": "hm",
      "authorship_tag": "ABX9TyOr5nipYUKZvfPtg07+G3DF",
      "include_colab_link": true
    },
    "kernelspec": {
      "name": "python3",
      "display_name": "Python 3"
    },
    "language_info": {
      "name": "python"
    },
    "accelerator": "GPU",
    "gpuClass": "premium"
  },
  "cells": [
    {
      "cell_type": "markdown",
      "metadata": {
        "id": "view-in-github",
        "colab_type": "text"
      },
      "source": [
        "<a href=\"https://colab.research.google.com/github/vfeng02/wav2vec_cantonese_xl/blob/main/wav2vec_xl_cantonese_pretrained.ipynb\" target=\"_parent\"><img src=\"https://colab.research.google.com/assets/colab-badge.svg\" alt=\"Open In Colab\"/></a>"
      ]
    },
    {
      "cell_type": "code",
      "source": [
        "gpu_info = !nvidia-smi\n",
        "gpu_info = '\\n'.join(gpu_info)\n",
        "if gpu_info.find('failed') >= 0:\n",
        "  print('Not connected to a GPU')\n",
        "else:\n",
        "  print(gpu_info)"
      ],
      "metadata": {
        "id": "4pNriXMI_Kpf"
      },
      "execution_count": null,
      "outputs": []
    },
    {
      "cell_type": "code",
      "source": [
        "%%capture\n",
        "!pip install datasets==1.18.3\n",
        "!pip install transformers==4.24.0\n",
        "!pip install jiwer\n",
        "!pip install torchaudio\n",
        "!pip install librosa"
      ],
      "metadata": {
        "id": "tFBr22dj-1RI"
      },
      "execution_count": null,
      "outputs": []
    },
    {
      "cell_type": "code",
      "source": [
        "from datasets import load_dataset, load_metric, Audio\n",
        "\n",
        "# common_voice_train = load_dataset(\"common_voice\", \"zh-HK\", split=\"train+validation\")\n",
        "common_voice_test = load_dataset(\"common_voice\", \"zh-HK\", split=\"test\")"
      ],
      "metadata": {
        "id": "qEs_T4pQRZVB"
      },
      "execution_count": null,
      "outputs": []
    },
    {
      "cell_type": "code",
      "source": [
        "# common_voice_train = common_voice_train.remove_columns([\"accent\", \"age\", \"client_id\", \"down_votes\", \"gender\", \"locale\", \"segment\", \"up_votes\"])\n",
        "common_voice_test = common_voice_test.remove_columns([\"accent\", \"age\", \"client_id\", \"down_votes\", \"gender\", \"locale\", \"segment\", \"up_votes\"])\n",
        "common_voice_test = common_voice_test.cast_column(\"audio\", Audio(sampling_rate=16_000))"
      ],
      "metadata": {
        "id": "a18ltEXXP4Nx"
      },
      "execution_count": null,
      "outputs": []
    },
    {
      "cell_type": "code",
      "source": [
        "from transformers import Wav2Vec2ForCTC, Wav2Vec2Processor\n",
        "\n",
        "model_id = \"ctl/wav2vec2-large-xlsr-cantonese\"\n",
        "\n",
        "processor = Wav2Vec2Processor.from_pretrained(f\"{model_id}\") \n",
        "model = Wav2Vec2ForCTC.from_pretrained(f\"{model_id}\") \n",
        "model.to(\"cuda\")\n"
      ],
      "metadata": {
        "id": "71O5p7x8cDF_"
      },
      "execution_count": null,
      "outputs": []
    },
    {
      "cell_type": "code",
      "source": [
        "import re\n",
        "\n",
        "chars_to_ignore_regex = '[\\,\\?\\.\\!\\-\\;\\:\"\\“\\%\\‘\\”\\�\\．\\⋯\\！\\－\\：\\–\\。\\》\\,\\）\\,\\？\\；\\～\\~\\…\\︰\\，\\（\\」\\‧\\《\\﹔\\、\\—\\／\\,\\「\\﹖\\·\\']'\n",
        "\n",
        "def speech_file_to_array_fn(batch):\n",
        "    batch[\"sentence\"] = re.sub(chars_to_ignore_regex, '', batch[\"sentence\"]).lower()\n",
        "    batch[\"speech\"] = batch[\"audio\"]['array'].squeeze()\n",
        "    return batch\n",
        "\n",
        "test_dataset = common_voice_test.map(speech_file_to_array_fn)"
      ],
      "metadata": {
        "id": "qP9tYpGDdUYc"
      },
      "execution_count": null,
      "outputs": []
    },
    {
      "cell_type": "code",
      "source": [
        "import torch \n",
        "\n",
        "def evaluate(batch):\n",
        "    inputs = processor(batch[\"speech\"], sampling_rate=16_000, return_tensors=\"pt\", padding=True)\n",
        "    with torch.no_grad():\n",
        "        logits = model(inputs.input_values.to(\"cuda\"), attention_mask=inputs.attention_mask.to(\"cuda\")).logits\n",
        "\n",
        "    pred_ids = torch.argmax(logits, dim=-1)\n",
        "    batch[\"pred_strings\"] = processor.batch_decode(pred_ids)\n",
        "    return batch\n",
        "\n",
        "result = test_dataset.map(evaluate, batched=True, batch_size=16)\n",
        "\n",
        "cer = load_metric(\"cer\")\n",
        "print(\"CER: {:2f}\".format(100 * cer.compute(predictions=result[\"pred_strings\"], references=result[\"sentence\"])))"
      ],
      "metadata": {
        "id": "Y3LdE1Y4eDhP"
      },
      "execution_count": null,
      "outputs": []
    },
    {
      "cell_type": "code",
      "source": [],
      "metadata": {
        "id": "fjGhjeYReGfa"
      },
      "execution_count": null,
      "outputs": []
    }
  ]
}