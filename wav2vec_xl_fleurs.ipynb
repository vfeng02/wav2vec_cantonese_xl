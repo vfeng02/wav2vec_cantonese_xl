{
  "nbformat": 4,
  "nbformat_minor": 0,
  "metadata": {
    "colab": {
      "private_outputs": true,
      "provenance": [],
      "machine_shape": "hm",
      "authorship_tag": "ABX9TyOZsvBTT8igdx1UKW+rhVd0",
      "include_colab_link": true
    },
    "kernelspec": {
      "name": "python3",
      "display_name": "Python 3"
    },
    "language_info": {
      "name": "python"
    },
    "accelerator": "GPU",
    "gpuClass": "premium"
  },
  "cells": [
    {
      "cell_type": "markdown",
      "metadata": {
        "id": "view-in-github",
        "colab_type": "text"
      },
      "source": [
        "<a href=\"https://colab.research.google.com/github/vfeng02/wav2vec_cantonese_xl/blob/main/wav2vec_xl_fleurs.ipynb\" target=\"_parent\"><img src=\"https://colab.research.google.com/assets/colab-badge.svg\" alt=\"Open In Colab\"/></a>"
      ]
    },
    {
      "cell_type": "code",
      "source": [
        "gpu_info = !nvidia-smi\n",
        "gpu_info = '\\n'.join(gpu_info)\n",
        "if gpu_info.find('failed') >= 0:\n",
        "  print('Not connected to a GPU')\n",
        "else:\n",
        "  print(gpu_info)"
      ],
      "metadata": {
        "id": "4pNriXMI_Kpf"
      },
      "execution_count": null,
      "outputs": []
    },
    {
      "cell_type": "code",
      "source": [
        "%%capture\n",
        "!pip install datasets==1.18.3\n",
        "!pip install transformers==4.24.0\n",
        "!pip install jiwer\n",
        "!pip install torchaudio\n",
        "!pip install librosa"
      ],
      "metadata": {
        "id": "tFBr22dj-1RI"
      },
      "execution_count": null,
      "outputs": []
    },
    {
      "cell_type": "code",
      "source": [
        "from datasets import load_dataset, load_metric, Audio\n",
        "\n",
        "fleurs = load_dataset(\"google/xtreme_s\", \"fleurs.yue_hant_hk\")"
      ],
      "metadata": {
        "id": "qEs_T4pQRZVB"
      },
      "execution_count": null,
      "outputs": []
    },
    {
      "cell_type": "code",
      "source": [
        "fleurs = fleurs.remove_columns([\"id\", \"num_samples\", \"raw_transcription\", \"gender\", \"lang_id\", \"language\", \"lang_group_id\"])"
      ],
      "metadata": {
        "id": "w97_oTBjA53V"
      },
      "execution_count": null,
      "outputs": []
    },
    {
      "cell_type": "code",
      "source": [
        "from datasets import ClassLabel\n",
        "import random\n",
        "import pandas as pd\n",
        "from IPython.display import display, HTML\n",
        "\n",
        "def show_random_elements(dataset, num_examples=10):\n",
        "    assert num_examples <= len(dataset), \"Can't pick more elements than there are in the dataset.\"\n",
        "    picks = []\n",
        "    for _ in range(num_examples):\n",
        "        pick = random.randint(0, len(dataset)-1)\n",
        "        while pick in picks:\n",
        "            pick = random.randint(0, len(dataset)-1)\n",
        "        picks.append(pick)\n",
        "    \n",
        "    df = pd.DataFrame(dataset[picks])\n",
        "    display(HTML(df.to_html()))"
      ],
      "metadata": {
        "id": "fjGhjeYReGfa"
      },
      "execution_count": null,
      "outputs": []
    },
    {
      "cell_type": "code",
      "source": [
        "import re\n",
        "chars_to_ignore_regex = '[\\,\\?\\.\\!\\-\\;\\:\"\\“\\%\\‘\\”\\�\\．\\⋯\\！\\－\\：\\–\\。\\》\\,\\）\\,\\？\\；\\～\\~\\…\\︰\\，\\（\\」\\‧\\《\\﹔\\、\\—\\／\\,\\「\\﹖\\·\\' a-zA-Z]'\n",
        "\n",
        "def remove_special_characters(batch):\n",
        "    batch[\"transcription\"] = re.sub(chars_to_ignore_regex, '', batch[\"transcription\"]).lower() + \" \"\n",
        "    return batch\n",
        "\n",
        "fleurs = fleurs.map(remove_special_characters)"
      ],
      "metadata": {
        "id": "FU3CBw7kBsO_"
      },
      "execution_count": null,
      "outputs": []
    },
    {
      "cell_type": "code",
      "source": [
        "show_random_elements(fleurs[\"train\"].remove_columns([\"path\",\"audio\"]))"
      ],
      "metadata": {
        "id": "n2ER7vdYB55J"
      },
      "execution_count": null,
      "outputs": []
    },
    {
      "cell_type": "code",
      "source": [
        "phones_column_train = [\"\"] * len(fleurs[\"train\"])\n",
        "fleurs[\"train\"] = fleurs[\"train\"].add_column(\"phones\", phones_column_train)\n",
        "\n",
        "phones_column_val = [\"\"] * len(fleurs[\"validation\"])\n",
        "fleurs[\"validation\"] = fleurs[\"validation\"].add_column(\"phones\", phones_column_val)\n",
        "\n",
        "phones_column_test = [\"\"] * len(fleurs[\"test\"])\n",
        "fleurs[\"test\"] = fleurs[\"test\"].add_column(\"phones\", phones_column_test)\n",
        "\n",
        "from transformers import T5ForConditionalGeneration, AutoTokenizer\n",
        "\n",
        "# model = T5ForConditionalGeneration.from_pretrained('/scratch/network/vyfeng/models/g2p_multilingual_byT5_tiny_16_layers_100')\n",
        "# tokenizer = AutoTokenizer.from_pretrained('/scratch/network/vyfeng/models/byt5-small')\n",
        "\n",
        "model = T5ForConditionalGeneration.from_pretrained('charsiu/g2p_multilingual_byT5_tiny_16_layers_100')\n",
        "tokenizer = AutoTokenizer.from_pretrained('google/byt5-small')\n",
        "\n",
        "def get_phones(batch):\n",
        "    words = ['<yue>: '+i for i in batch[\"transcription\"]]\n",
        "    out = tokenizer(words,padding=True,add_special_tokens=False,return_tensors='pt')\n",
        "\n",
        "    preds = model.generate(**out,num_beams=1,max_length=50)\n",
        "    phones = tokenizer.batch_decode(preds.tolist(),skip_special_tokens=True)\n",
        "    batch[\"phones\"] = (\" \").join(phones)\n",
        "    return batch\n",
        "\n",
        "fleurs = fleurs.map(get_phones)"
      ],
      "metadata": {
        "id": "oGIJASqqCCDF"
      },
      "execution_count": null,
      "outputs": []
    },
    {
      "cell_type": "code",
      "source": [
        "from google.colab import drive\n",
        "from torch.utils.data import Dataset\n",
        "drive.mount('/content/drive')\n",
        "\n",
        "# fleurs_pd = Dataset.to_pandas(fleurs)\n",
        "\n",
        "path = '/content/drive/My Drive/wav2vec_fleurs/fleurs.csv'\n",
        "# with open(path, 'w', encoding = 'utf-8-sig') as f:\n",
        "#   fleurs_pd.to_csv(f)\n",
        "fleurs.save_to_disk(path)"
      ],
      "metadata": {
        "id": "3CnCdcJ18Ybt"
      },
      "execution_count": null,
      "outputs": []
    },
    {
      "cell_type": "code",
      "source": [
        "def extract_all_chars(batch):\n",
        "  all_text = \" \".join(batch[\"phones\"])\n",
        "  vocab = list(set(all_text))\n",
        "  return {\"vocab\": [vocab], \"all_text\": [all_text]}\n",
        "\n",
        "vocabs = fleurs.map(extract_all_chars, batched=True, batch_size=-1, keep_in_memory=True, remove_columns=fleurs[\"train\"].column_names)\n",
        "\n",
        "vocab_list = list(set(vocabs[\"train\"][\"vocab\"][0]) | set(vocabs[\"validation\"][\"vocab\"][0]) | set(vocabs[\"test\"][\"vocab\"][0]))\n",
        "vocab_dict = {v: k for k, v in enumerate(vocab_list)}\n",
        "\n",
        "vocab_dict"
      ],
      "metadata": {
        "id": "QDTbnakmH_lu"
      },
      "execution_count": null,
      "outputs": []
    },
    {
      "cell_type": "code",
      "source": [
        "vocab_dict[\"|\"] = vocab_dict[\" \"]\n",
        "del vocab_dict[\" \"]\n",
        "vocab_dict[\"[UNK]\"] = len(vocab_dict)\n",
        "vocab_dict[\"[PAD]\"] = len(vocab_dict)\n",
        "len(vocab_dict)"
      ],
      "metadata": {
        "id": "ejbExFuPN5P2"
      },
      "execution_count": null,
      "outputs": []
    },
    {
      "cell_type": "code",
      "source": [
        "import json\n",
        "with open('/content/drive/My Drive/wav2vec_fleurs/fleurs_vocab.json', 'w') as vocab_file:\n",
        "    json.dump(vocab_dict, vocab_file)"
      ],
      "metadata": {
        "id": "EGyKfBS_N_vW"
      },
      "execution_count": null,
      "outputs": []
    },
    {
      "cell_type": "code",
      "source": [
        "from transformers import Wav2Vec2CTCTokenizer, Wav2Vec2FeatureExtractor, Wav2Vec2Processor\n",
        "\n",
        "tokenizer = Wav2Vec2CTCTokenizer('/content/drive/My Drive/wav2vec_fleurs/fleurs_vocab.json', unk_token=\"[UNK]\", pad_token=\"[PAD]\", word_delimiter_token=\"|\")\n",
        "feature_extractor = Wav2Vec2FeatureExtractor(feature_size=1, sampling_rate=16000, padding_value=0.0, do_normalize=True, return_attention_mask=True)\n",
        "processor = Wav2Vec2Processor(feature_extractor=feature_extractor, tokenizer=tokenizer)"
      ],
      "metadata": {
        "id": "zGsDE7RYOBPg"
      },
      "execution_count": null,
      "outputs": []
    },
    {
      "cell_type": "code",
      "source": [
        "from huggingface_hub import notebook_login\n",
        "\n",
        "notebook_login()"
      ],
      "metadata": {
        "id": "EkgQ9dgiOnPG"
      },
      "execution_count": null,
      "outputs": []
    },
    {
      "cell_type": "code",
      "source": [
        "%%capture\n",
        "!apt install git-lfs"
      ],
      "metadata": {
        "id": "kcvCAxUhOnvI"
      },
      "execution_count": null,
      "outputs": []
    },
    {
      "cell_type": "code",
      "source": [
        "import huggingface_hub\n",
        "\n",
        "repo_name = \"wav2vec2-xl-yue-fleurs\"\n",
        "tokenizer.push_to_hub(repo_name)"
      ],
      "metadata": {
        "id": "WPzD2RyYO4p9"
      },
      "execution_count": null,
      "outputs": []
    },
    {
      "cell_type": "code",
      "source": [
        "def prepare_dataset(batch):\n",
        "    audio = batch[\"audio\"]\n",
        "\n",
        "    # batched output is \"un-batched\" to ensure mapping is correct\n",
        "    batch[\"input_values\"] = processor(audio[\"array\"], sampling_rate=audio[\"sampling_rate\"]).input_values[0]\n",
        "    \n",
        "    with processor.as_target_processor():\n",
        "        batch[\"labels\"] = processor(batch[\"phones\"]).input_ids\n",
        "    return batch"
      ],
      "metadata": {
        "id": "lP2cECdoPWBz"
      },
      "execution_count": null,
      "outputs": []
    },
    {
      "cell_type": "code",
      "source": [
        "from datasets import concatenate_datasets\n",
        "\n",
        "fleurs_train = fleurs[\"train\"].map(prepare_dataset, remove_columns=fleurs[\"train\"].column_names, num_proc=4)\n",
        "fleurs_val = fleurs[\"validation\"].map(prepare_dataset, remove_columns=fleurs[\"validation\"].column_names, num_proc=4)\n",
        "fleurs_test = fleurs[\"test\"].map(prepare_dataset, remove_columns=fleurs[\"test\"].column_names, num_proc=4)\n",
        "\n",
        "fleurs_train = concatenate_datasets([fleurs_train, fleurs_val])\n"
      ],
      "metadata": {
        "id": "_RgRXoIWf0Rg"
      },
      "execution_count": null,
      "outputs": []
    },
    {
      "cell_type": "code",
      "source": [
        "import torch\n",
        "\n",
        "from dataclasses import dataclass, field\n",
        "from typing import Any, Dict, List, Optional, Union\n",
        "\n",
        "@dataclass\n",
        "class DataCollatorCTCWithPadding:\n",
        "\n",
        "    processor: Wav2Vec2Processor\n",
        "    padding: Union[bool, str] = True\n",
        "    max_length: Optional[int] = None\n",
        "    max_length_labels: Optional[int] = None\n",
        "    pad_to_multiple_of: Optional[int] = None\n",
        "    pad_to_multiple_of_labels: Optional[int] = None\n",
        "\n",
        "    def __call__(self, features: List[Dict[str, Union[List[int], torch.Tensor]]]) -> Dict[str, torch.Tensor]:\n",
        "        # split inputs and labels since they have to be of different lenghts and need\n",
        "        # different padding methods\n",
        "        input_features = [{\"input_values\": feature[\"input_values\"]} for feature in features]\n",
        "        label_features = [{\"input_ids\": feature[\"labels\"]} for feature in features]\n",
        "\n",
        "        batch = self.processor.pad(\n",
        "            input_features,\n",
        "            padding=self.padding,\n",
        "            max_length=self.max_length,\n",
        "            pad_to_multiple_of=self.pad_to_multiple_of,\n",
        "            return_tensors=\"pt\",\n",
        "        )\n",
        "        with self.processor.as_target_processor():\n",
        "            labels_batch = self.processor.pad(\n",
        "                label_features,\n",
        "                padding=self.padding,\n",
        "                max_length=self.max_length_labels,\n",
        "                pad_to_multiple_of=self.pad_to_multiple_of_labels,\n",
        "                return_tensors=\"pt\",\n",
        "            )\n",
        "\n",
        "        # replace padding with -100 to ignore loss correctly\n",
        "        labels = labels_batch[\"input_ids\"].masked_fill(labels_batch.attention_mask.ne(1), -100)\n",
        "\n",
        "        batch[\"labels\"] = labels\n",
        "\n",
        "        return batch\n",
        "  \n",
        "data_collator = DataCollatorCTCWithPadding(processor=processor, padding=True)"
      ],
      "metadata": {
        "id": "Ru9npOU9YgHr"
      },
      "execution_count": null,
      "outputs": []
    },
    {
      "cell_type": "code",
      "source": [
        "import numpy as np \n",
        "\n",
        "wer_metric = load_metric(\"wer\")\n",
        "cer_metric = load_metric(\"cer\")\n",
        "\n",
        "def compute_metrics(pred):\n",
        "    pred_logits = pred.predictions\n",
        "    pred_ids = np.argmax(pred_logits, axis=-1)\n",
        "\n",
        "    pred.label_ids[pred.label_ids == -100] = processor.tokenizer.pad_token_id\n",
        "\n",
        "    pred_str = processor.batch_decode(pred_ids)\n",
        "    # we do not want to group tokens when computing the metrics\n",
        "    label_str = processor.batch_decode(pred.label_ids, group_tokens=False)\n",
        "\n",
        "    cer = cer_metric.compute(predictions=pred_str, references=label_str)\n",
        "    wer = wer_metric.compute(predictions=pred_str, references=label_str)\n",
        "\n",
        "    return {\"cer\": cer, \"wer\": wer}"
      ],
      "metadata": {
        "id": "hdyeEXVtdRiU"
      },
      "execution_count": null,
      "outputs": []
    },
    {
      "cell_type": "code",
      "source": [
        "from transformers import Wav2Vec2ForCTC\n",
        "\n",
        "model = Wav2Vec2ForCTC.from_pretrained(\n",
        "    \"facebook/wav2vec2-large-xlsr-53\", \n",
        "    attention_dropout=0.1,\n",
        "    hidden_dropout=0.1,\n",
        "    feat_proj_dropout=0.0,\n",
        "    mask_time_prob=0.05,\n",
        "    layerdrop=0.1,\n",
        "    ctc_loss_reduction=\"mean\", \n",
        "    pad_token_id=processor.tokenizer.pad_token_id,\n",
        "    vocab_size=len(processor.tokenizer)\n",
        ")"
      ],
      "metadata": {
        "id": "MD_WQyT1d8R5"
      },
      "execution_count": null,
      "outputs": []
    },
    {
      "cell_type": "code",
      "source": [
        "from transformers import TrainingArguments\n",
        "\n",
        "training_args = TrainingArguments(\n",
        "  # output_dir=\"/content/gdrive/MyDrive/wav2vec2-large-xlsr-turkish-demo\",\n",
        "  output_dir=\"./wav2vec2-xl-yue-fleurs\",\n",
        "  group_by_length=True,\n",
        "  per_device_train_batch_size=8,\n",
        "  gradient_accumulation_steps=2,\n",
        "  evaluation_strategy=\"steps\",\n",
        "  num_train_epochs=30,\n",
        "  fp16=True,\n",
        "  save_steps=100,\n",
        "  eval_steps=100,\n",
        "  logging_steps=10,\n",
        "  learning_rate=3e-4,\n",
        "  warmup_steps=500,\n",
        "  save_total_limit=2,\n",
        ")"
      ],
      "metadata": {
        "id": "TBs2nsGFgsNv"
      },
      "execution_count": null,
      "outputs": []
    },
    {
      "cell_type": "code",
      "source": [
        "from transformers import Trainer\n",
        "\n",
        "trainer = Trainer(\n",
        "    model=model,\n",
        "    data_collator=data_collator,\n",
        "    args=training_args,\n",
        "    compute_metrics=compute_metrics,\n",
        "    train_dataset=fleurs_train,\n",
        "    eval_dataset=fleurs_test,\n",
        "    tokenizer=processor.feature_extractor,\n",
        ")"
      ],
      "metadata": {
        "id": "zbO164HxgaHY"
      },
      "execution_count": null,
      "outputs": []
    },
    {
      "cell_type": "code",
      "source": [
        "trainer.train()"
      ],
      "metadata": {
        "id": "5_341YXKgPD_"
      },
      "execution_count": null,
      "outputs": []
    },
    {
      "cell_type": "markdown",
      "source": [
        "# Preprocessing dataset\n",
        "Load common-voice data set, resample audio to 16Hz, add"
      ],
      "metadata": {
        "id": "9QKe7GnpPYsQ"
      }
    }
  ]
}